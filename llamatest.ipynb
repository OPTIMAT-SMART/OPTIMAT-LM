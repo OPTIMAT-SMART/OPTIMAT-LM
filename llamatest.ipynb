{
 "cells": [
  {
   "cell_type": "code",
   "execution_count": 14,
   "metadata": {},
   "outputs": [],
   "source": [
    "from langchain_openai import ChatOpenAI\n",
    "from IPython.display import Image, display\n",
    "from langgraph.graph import StateGraph, START, END\n",
    "from langgraph.graph import MessagesState\n",
    "from langgraph.prebuilt import ToolNode, tools_condition\n",
    "\n",
    "import requests\n",
    "from pprint import pprint\n",
    "from langchain_core.messages import AIMessage, HumanMessage"
   ]
  },
  {
   "cell_type": "code",
   "execution_count": 17,
   "metadata": {},
   "outputs": [],
   "source": [
    "llm = ChatOpenAI(\n",
    "    api_key=\"ollama\",\n",
    "    model=\"llama3.3\",\n",
    "    base_url=\"http://localhost:11434/v1\",\n",
    ")\n",
    "\n",
    "def navigate(origin: str, destination: str) -> str:\n",
    "    \"\"\"Check if there is a path between origin and destination addresses.\n",
    "    \n",
    "    Args:\n",
    "        origin: starting address\n",
    "        destination: ending address\n",
    "    \"\"\"\n",
    "    \n",
    "    response = requests.post(\n",
    "        'http://localhost:5000/api/navigate',\n",
    "        json={'origin': origin, 'destination': destination}\n",
    "    )\n",
    "    return response.json()['message']\n",
    "\n",
    "llama_tools = llm.bind_tools([navigate])\n"
   ]
  },
  {
   "cell_type": "code",
   "execution_count": 26,
   "metadata": {},
   "outputs": [
    {
     "data": {
      "image/png": "[encoded data removed]",
      "text/plain": [
       "<IPython.core.display.Image object>"
      ]
     },
     "metadata": {},
     "output_type": "display_data"
    }
   ],
   "source": [
    "# Node\n",
    "def tool_calling_llm(state: MessagesState):\n",
    "    return {\"messages\": [llama_tools.invoke(state[\"messages\"])]}\n",
    "\n",
    "# Build graph\n",
    "builder = StateGraph(MessagesState)\n",
    "builder.add_node(\"tool_calling_llm\", tool_calling_llm)\n",
    "builder.add_node(\"tools\", ToolNode([navigate]))\n",
    "\n",
    "builder.add_conditional_edges(\"tool_calling_llm\", tools_condition)\n",
    "builder.add_edge(START, \"tool_calling_llm\")\n",
    "builder.add_edge(\"tools\", \"tool_calling_llm\")\n",
    "graph = builder.compile()\n",
    "\n",
    "# View\n",
    "display(Image(graph.get_graph().draw_mermaid_png()))"
   ]
  },
  {
   "cell_type": "code",
   "execution_count": 28,
   "metadata": {},
   "outputs": [
    {
     "name": "stdout",
     "output_type": "stream",
     "text": [
      "================================\u001b[1m Human Message \u001b[0m=================================\n",
      "\n",
      "Can i go from 123 pine rd to 456 oak ave? If that doesn't work, can i go from 123 main st to 789 pine rd?\n",
      "==================================\u001b[1m Ai Message \u001b[0m==================================\n",
      "Tool Calls:\n",
      "  navigate (call_xzoz3f54)\n",
      " Call ID: call_xzoz3f54\n",
      "  Args:\n",
      "    destination: 456 oak ave\n",
      "    origin: 123 pine rd\n",
      "  navigate (call_lv9k63vc)\n",
      " Call ID: call_lv9k63vc\n",
      "  Args:\n",
      "    destination: 789 pine rd\n",
      "    origin: 123 main st\n",
      "=================================\u001b[1m Tool Message \u001b[0m=================================\n",
      "Name: navigate\n",
      "\n",
      "Invalid origin address: 123 pine rd\n",
      "=================================\u001b[1m Tool Message \u001b[0m=================================\n",
      "Name: navigate\n",
      "\n",
      "There is a path between origin and destination\n",
      "==================================\u001b[1m Ai Message \u001b[0m==================================\n",
      "\n",
      "You can go from 123 Main St to 789 Pine Rd. Unfortunately, I was unable to verify the route from 123 Pine Rd to 456 Oak Ave as the origin address could not be found.\n"
     ]
    }
   ],
   "source": [
    "messages = graph.invoke({\"messages\": HumanMessage(content=\"Can i go from 123 pine rd to 456 oak ave? If that doesn't work, can i go from 123 main st to 789 pine rd?\")})\n",
    "for m in messages['messages']:\n",
    "    m.pretty_print()"
   ]
  },
  {
   "cell_type": "code",
   "execution_count": null,
   "metadata": {},
   "outputs": [],
   "source": []
  }
 ],
 "metadata": {
  "kernelspec": {
   "display_name": "Python 3",
   "language": "python",
   "name": "python3"
  },
  "language_info": {
   "codemirror_mode": {
    "name": "ipython",
    "version": 3
   },
   "file_extension": ".py",
   "mimetype": "text/x-python",
   "name": "python",
   "nbconvert_exporter": "python",
   "pygments_lexer": "ipython3",
   "version": "3.13.1"
  }
 },
 "nbformat": 4,
 "nbformat_minor": 2
}
